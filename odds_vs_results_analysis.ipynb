{
 "cells": [
  {
   "cell_type": "code",
   "execution_count": 1,
   "metadata": {},
   "outputs": [],
   "source": [
    "import pandas as pd\n",
    "import matplotlib.pyplot as plt\n",
    "from matplotlib.ticker import FormatStrFormatter\n",
    "from matplotlib.pyplot import figure\n",
    "import numpy as np\n",
    "import os\n",
    "\n",
    "plt.rcParams['figure.figsize'] = [20, 10]"
   ]
  },
  {
   "cell_type": "code",
   "execution_count": 2,
   "metadata": {},
   "outputs": [
    {
     "data": {
      "text/html": [
       "<div>\n",
       "<style scoped>\n",
       "    .dataframe tbody tr th:only-of-type {\n",
       "        vertical-align: middle;\n",
       "    }\n",
       "\n",
       "    .dataframe tbody tr th {\n",
       "        vertical-align: top;\n",
       "    }\n",
       "\n",
       "    .dataframe thead th {\n",
       "        text-align: right;\n",
       "    }\n",
       "</style>\n",
       "<table border=\"1\" class=\"dataframe\">\n",
       "  <thead>\n",
       "    <tr style=\"text-align: right;\">\n",
       "      <th></th>\n",
       "      <th>index</th>\n",
       "      <th>Date</th>\n",
       "      <th>Rot</th>\n",
       "      <th>VH</th>\n",
       "      <th>Team</th>\n",
       "      <th>Final</th>\n",
       "      <th>Open</th>\n",
       "      <th>Close</th>\n",
       "      <th>Season</th>\n",
       "    </tr>\n",
       "  </thead>\n",
       "  <tbody>\n",
       "    <tr>\n",
       "      <th>0</th>\n",
       "      <td>0</td>\n",
       "      <td>1030</td>\n",
       "      <td>501</td>\n",
       "      <td>V</td>\n",
       "      <td>Portland</td>\n",
       "      <td>97</td>\n",
       "      <td>184</td>\n",
       "      <td>189.5</td>\n",
       "      <td>2007-08</td>\n",
       "    </tr>\n",
       "    <tr>\n",
       "      <th>1</th>\n",
       "      <td>1</td>\n",
       "      <td>1030</td>\n",
       "      <td>502</td>\n",
       "      <td>H</td>\n",
       "      <td>SanAntonio</td>\n",
       "      <td>106</td>\n",
       "      <td>12.5</td>\n",
       "      <td>13</td>\n",
       "      <td>2007-08</td>\n",
       "    </tr>\n",
       "    <tr>\n",
       "      <th>2</th>\n",
       "      <td>2</td>\n",
       "      <td>1030</td>\n",
       "      <td>503</td>\n",
       "      <td>V</td>\n",
       "      <td>Utah</td>\n",
       "      <td>117</td>\n",
       "      <td>214.5</td>\n",
       "      <td>212</td>\n",
       "      <td>2007-08</td>\n",
       "    </tr>\n",
       "    <tr>\n",
       "      <th>3</th>\n",
       "      <td>3</td>\n",
       "      <td>1030</td>\n",
       "      <td>504</td>\n",
       "      <td>H</td>\n",
       "      <td>GoldenState</td>\n",
       "      <td>96</td>\n",
       "      <td>3</td>\n",
       "      <td>1</td>\n",
       "      <td>2007-08</td>\n",
       "    </tr>\n",
       "    <tr>\n",
       "      <th>4</th>\n",
       "      <td>4</td>\n",
       "      <td>1030</td>\n",
       "      <td>505</td>\n",
       "      <td>V</td>\n",
       "      <td>Houston</td>\n",
       "      <td>95</td>\n",
       "      <td>2.5</td>\n",
       "      <td>5</td>\n",
       "      <td>2007-08</td>\n",
       "    </tr>\n",
       "  </tbody>\n",
       "</table>\n",
       "</div>"
      ],
      "text/plain": [
       "   index  Date  Rot VH         Team  Final   Open  Close   Season\n",
       "0      0  1030  501  V     Portland     97    184  189.5  2007-08\n",
       "1      1  1030  502  H   SanAntonio    106   12.5     13  2007-08\n",
       "2      2  1030  503  V         Utah    117  214.5    212  2007-08\n",
       "3      3  1030  504  H  GoldenState     96      3      1  2007-08\n",
       "4      4  1030  505  V      Houston     95    2.5      5  2007-08"
      ]
     },
     "execution_count": 2,
     "metadata": {},
     "output_type": "execute_result"
    }
   ],
   "source": [
    "# Curious to see how good odd makers really are. How far does the final score of NBA games differ from the closing odds? \n",
    "# Might have some uses in live betting.\n",
    "\n",
    "# First lets create a pandas dataframe containing all of the data we have so far\n",
    "path = \"nba_odds\"\n",
    "frames = []\n",
    "for file in os.listdir(path):\n",
    "    if file.endswith(\".csv\"):\n",
    "        tmp = pd.read_csv(path+'/'+file)\n",
    "        tmp['Season'] = file.split(' ')[-1][:-4]\n",
    "        frames.append(tmp)\n",
    "df = pd.concat(frames)\n",
    "df = df.drop(columns=['1st','2nd','3rd','4th','ML','2H'])\n",
    "df.reset_index(inplace=True)\n",
    "df.head()"
   ]
  },
  {
   "cell_type": "code",
   "execution_count": 3,
   "metadata": {},
   "outputs": [],
   "source": [
    "# Cleaning the data\n",
    "df.loc[1974,'Open'] = 197.5\n",
    "df.loc[29095,'Open'] = 1\n",
    "df.loc[29109, 'Open'] = 1\n",
    "\n",
    "df['Open'].replace('pk', '0', inplace=True)\n",
    "df['Close'].replace('pk', '0', inplace=True)\n",
    "df['Open'].replace('PK', '0', inplace=True)\n",
    "df['Close'].replace('PK', '0', inplace=True)\n",
    "df['Final'] = pd.to_numeric(df['Final'])\n",
    "df['Open'] = pd.to_numeric(df['Open'])\n",
    "df['Close'] = pd.to_numeric(df['Close'])"
   ]
  },
  {
   "cell_type": "code",
   "execution_count": 4,
   "metadata": {},
   "outputs": [
    {
     "data": {
      "text/html": [
       "<div>\n",
       "<style scoped>\n",
       "    .dataframe tbody tr th:only-of-type {\n",
       "        vertical-align: middle;\n",
       "    }\n",
       "\n",
       "    .dataframe tbody tr th {\n",
       "        vertical-align: top;\n",
       "    }\n",
       "\n",
       "    .dataframe thead th {\n",
       "        text-align: right;\n",
       "    }\n",
       "</style>\n",
       "<table border=\"1\" class=\"dataframe\">\n",
       "  <thead>\n",
       "    <tr style=\"text-align: right;\">\n",
       "      <th></th>\n",
       "      <th>index</th>\n",
       "      <th>Date</th>\n",
       "      <th>Rot</th>\n",
       "      <th>VH</th>\n",
       "      <th>Team</th>\n",
       "      <th>Final</th>\n",
       "      <th>Open</th>\n",
       "      <th>Close</th>\n",
       "      <th>Season</th>\n",
       "    </tr>\n",
       "  </thead>\n",
       "  <tbody>\n",
       "    <tr>\n",
       "      <th>0</th>\n",
       "      <td>0</td>\n",
       "      <td>1030</td>\n",
       "      <td>501</td>\n",
       "      <td>V</td>\n",
       "      <td>Portland</td>\n",
       "      <td>97</td>\n",
       "      <td>184.0</td>\n",
       "      <td>189.5</td>\n",
       "      <td>2007-08</td>\n",
       "    </tr>\n",
       "    <tr>\n",
       "      <th>1</th>\n",
       "      <td>1</td>\n",
       "      <td>1030</td>\n",
       "      <td>502</td>\n",
       "      <td>H</td>\n",
       "      <td>SanAntonio</td>\n",
       "      <td>106</td>\n",
       "      <td>12.5</td>\n",
       "      <td>13.0</td>\n",
       "      <td>2007-08</td>\n",
       "    </tr>\n",
       "  </tbody>\n",
       "</table>\n",
       "</div>"
      ],
      "text/plain": [
       "   index  Date  Rot VH        Team  Final   Open  Close   Season\n",
       "0      0  1030  501  V    Portland     97  184.0  189.5  2007-08\n",
       "1      1  1030  502  H  SanAntonio    106   12.5   13.0  2007-08"
      ]
     },
     "execution_count": 4,
     "metadata": {},
     "output_type": "execute_result"
    }
   ],
   "source": [
    "# I need the actual score and odds of each game\n",
    "tmp = df[0:2]\n",
    "tmp"
   ]
  },
  {
   "cell_type": "code",
   "execution_count": 5,
   "metadata": {},
   "outputs": [
    {
     "data": {
      "text/html": [
       "<div>\n",
       "<style scoped>\n",
       "    .dataframe tbody tr th:only-of-type {\n",
       "        vertical-align: middle;\n",
       "    }\n",
       "\n",
       "    .dataframe tbody tr th {\n",
       "        vertical-align: top;\n",
       "    }\n",
       "\n",
       "    .dataframe thead th {\n",
       "        text-align: right;\n",
       "    }\n",
       "</style>\n",
       "<table border=\"1\" class=\"dataframe\">\n",
       "  <thead>\n",
       "    <tr style=\"text-align: right;\">\n",
       "      <th></th>\n",
       "      <th>index</th>\n",
       "      <th>Date</th>\n",
       "      <th>Rot</th>\n",
       "      <th>VH</th>\n",
       "      <th>Team</th>\n",
       "      <th>Final</th>\n",
       "      <th>Open</th>\n",
       "      <th>Close</th>\n",
       "      <th>Season</th>\n",
       "    </tr>\n",
       "  </thead>\n",
       "  <tbody>\n",
       "    <tr>\n",
       "      <th>2</th>\n",
       "      <td>2</td>\n",
       "      <td>1030</td>\n",
       "      <td>503</td>\n",
       "      <td>V</td>\n",
       "      <td>Utah</td>\n",
       "      <td>117</td>\n",
       "      <td>214.5</td>\n",
       "      <td>212.0</td>\n",
       "      <td>2007-08</td>\n",
       "    </tr>\n",
       "    <tr>\n",
       "      <th>3</th>\n",
       "      <td>3</td>\n",
       "      <td>1030</td>\n",
       "      <td>504</td>\n",
       "      <td>H</td>\n",
       "      <td>GoldenState</td>\n",
       "      <td>96</td>\n",
       "      <td>3.0</td>\n",
       "      <td>1.0</td>\n",
       "      <td>2007-08</td>\n",
       "    </tr>\n",
       "  </tbody>\n",
       "</table>\n",
       "</div>"
      ],
      "text/plain": [
       "   index  Date  Rot VH         Team  Final   Open  Close   Season\n",
       "2      2  1030  503  V         Utah    117  214.5  212.0  2007-08\n",
       "3      3  1030  504  H  GoldenState     96    3.0    1.0  2007-08"
      ]
     },
     "execution_count": 5,
     "metadata": {},
     "output_type": "execute_result"
    }
   ],
   "source": [
    "df[2:4]"
   ]
  },
  {
   "cell_type": "code",
   "execution_count": 6,
   "metadata": {},
   "outputs": [
    {
     "data": {
      "text/html": [
       "<div>\n",
       "<style scoped>\n",
       "    .dataframe tbody tr th:only-of-type {\n",
       "        vertical-align: middle;\n",
       "    }\n",
       "\n",
       "    .dataframe tbody tr th {\n",
       "        vertical-align: top;\n",
       "    }\n",
       "\n",
       "    .dataframe thead th {\n",
       "        text-align: right;\n",
       "    }\n",
       "</style>\n",
       "<table border=\"1\" class=\"dataframe\">\n",
       "  <thead>\n",
       "    <tr style=\"text-align: right;\">\n",
       "      <th></th>\n",
       "      <th>index</th>\n",
       "      <th>Date</th>\n",
       "      <th>Rot</th>\n",
       "      <th>VH</th>\n",
       "      <th>Team</th>\n",
       "      <th>Final</th>\n",
       "      <th>Open</th>\n",
       "      <th>Close</th>\n",
       "      <th>Season</th>\n",
       "    </tr>\n",
       "  </thead>\n",
       "  <tbody>\n",
       "    <tr>\n",
       "      <th>4</th>\n",
       "      <td>4</td>\n",
       "      <td>1030</td>\n",
       "      <td>505</td>\n",
       "      <td>V</td>\n",
       "      <td>Houston</td>\n",
       "      <td>95</td>\n",
       "      <td>2.5</td>\n",
       "      <td>5.0</td>\n",
       "      <td>2007-08</td>\n",
       "    </tr>\n",
       "    <tr>\n",
       "      <th>5</th>\n",
       "      <td>5</td>\n",
       "      <td>1030</td>\n",
       "      <td>506</td>\n",
       "      <td>H</td>\n",
       "      <td>LALakers</td>\n",
       "      <td>93</td>\n",
       "      <td>191.0</td>\n",
       "      <td>199.0</td>\n",
       "      <td>2007-08</td>\n",
       "    </tr>\n",
       "  </tbody>\n",
       "</table>\n",
       "</div>"
      ],
      "text/plain": [
       "   index  Date  Rot VH      Team  Final   Open  Close   Season\n",
       "4      4  1030  505  V   Houston     95    2.5    5.0  2007-08\n",
       "5      5  1030  506  H  LALakers     93  191.0  199.0  2007-08"
      ]
     },
     "execution_count": 6,
     "metadata": {},
     "output_type": "execute_result"
    }
   ],
   "source": [
    "df[4:6]"
   ]
  },
  {
   "cell_type": "code",
   "execution_count": 7,
   "metadata": {},
   "outputs": [],
   "source": [
    "# Create a new dataframe where a game is only a single row\n",
    "data = []\n",
    "for x in range(0,df.shape[0],2):\n",
    "    tmp = df[x:x+2]\n",
    "    tmp.reset_index(inplace=True)\n",
    "    # Look for the spread\n",
    "    if tmp.loc[0,'Open'] >= 100:\n",
    "        spread_open = tmp.loc[1,'Open']*-1\n",
    "    else:\n",
    "        spread_open = tmp.loc[0,'Open']\n",
    "\n",
    "    if tmp.loc[0,'Close'] >= 100:\n",
    "        spread_close = tmp.loc[1,'Close']*-1\n",
    "    else:\n",
    "        spread_close = tmp.loc[0,'Close']\n",
    "\n",
    "    data.append([tmp.loc[0,'Team'], tmp.loc[1,'Team'], tmp.loc[0,'Final'] - tmp.loc[1,'Final'], spread_open, spread_close, tmp.loc[0,'Season']])"
   ]
  },
  {
   "cell_type": "code",
   "execution_count": 8,
   "metadata": {},
   "outputs": [
    {
     "data": {
      "text/html": [
       "<div>\n",
       "<style scoped>\n",
       "    .dataframe tbody tr th:only-of-type {\n",
       "        vertical-align: middle;\n",
       "    }\n",
       "\n",
       "    .dataframe tbody tr th {\n",
       "        vertical-align: top;\n",
       "    }\n",
       "\n",
       "    .dataframe thead th {\n",
       "        text-align: right;\n",
       "    }\n",
       "</style>\n",
       "<table border=\"1\" class=\"dataframe\">\n",
       "  <thead>\n",
       "    <tr style=\"text-align: right;\">\n",
       "      <th></th>\n",
       "      <th>Away Team</th>\n",
       "      <th>Home Team</th>\n",
       "      <th>Home Actual</th>\n",
       "      <th>Home Open</th>\n",
       "      <th>Home Close</th>\n",
       "      <th>Season</th>\n",
       "      <th>Diff Open</th>\n",
       "      <th>Diff Close</th>\n",
       "    </tr>\n",
       "  </thead>\n",
       "  <tbody>\n",
       "    <tr>\n",
       "      <th>13057</th>\n",
       "      <td>LAClippers</td>\n",
       "      <td>Portland</td>\n",
       "      <td>-11</td>\n",
       "      <td>-4.5</td>\n",
       "      <td>-5.0</td>\n",
       "      <td>2018-19</td>\n",
       "      <td>-6.5</td>\n",
       "      <td>-6.0</td>\n",
       "    </tr>\n",
       "    <tr>\n",
       "      <th>10435</th>\n",
       "      <td>GoldenState</td>\n",
       "      <td>Toronto</td>\n",
       "      <td>6</td>\n",
       "      <td>3.0</td>\n",
       "      <td>6.0</td>\n",
       "      <td>2016-17</td>\n",
       "      <td>3.0</td>\n",
       "      <td>0.0</td>\n",
       "    </tr>\n",
       "    <tr>\n",
       "      <th>5365</th>\n",
       "      <td>NewYork</td>\n",
       "      <td>Detroit</td>\n",
       "      <td>23</td>\n",
       "      <td>4.0</td>\n",
       "      <td>4.0</td>\n",
       "      <td>2011-12</td>\n",
       "      <td>19.0</td>\n",
       "      <td>19.0</td>\n",
       "    </tr>\n",
       "    <tr>\n",
       "      <th>9439</th>\n",
       "      <td>NewOrleans</td>\n",
       "      <td>SanAntonio</td>\n",
       "      <td>-2</td>\n",
       "      <td>-3.5</td>\n",
       "      <td>-5.5</td>\n",
       "      <td>2014-15</td>\n",
       "      <td>1.5</td>\n",
       "      <td>3.5</td>\n",
       "    </tr>\n",
       "    <tr>\n",
       "      <th>11967</th>\n",
       "      <td>Denver</td>\n",
       "      <td>Indiana</td>\n",
       "      <td>-10</td>\n",
       "      <td>-6.5</td>\n",
       "      <td>-5.0</td>\n",
       "      <td>2017-18</td>\n",
       "      <td>-3.5</td>\n",
       "      <td>-5.0</td>\n",
       "    </tr>\n",
       "    <tr>\n",
       "      <th>9846</th>\n",
       "      <td>LAClippers</td>\n",
       "      <td>Minnesota</td>\n",
       "      <td>5</td>\n",
       "      <td>5.5</td>\n",
       "      <td>6.5</td>\n",
       "      <td>2014-15</td>\n",
       "      <td>-0.5</td>\n",
       "      <td>-1.5</td>\n",
       "    </tr>\n",
       "    <tr>\n",
       "      <th>9079</th>\n",
       "      <td>Sacramento</td>\n",
       "      <td>Memphis</td>\n",
       "      <td>-1</td>\n",
       "      <td>-6.5</td>\n",
       "      <td>-5.0</td>\n",
       "      <td>2014-15</td>\n",
       "      <td>5.5</td>\n",
       "      <td>4.0</td>\n",
       "    </tr>\n",
       "    <tr>\n",
       "      <th>7235</th>\n",
       "      <td>Houston</td>\n",
       "      <td>Dallas</td>\n",
       "      <td>-4</td>\n",
       "      <td>-2.0</td>\n",
       "      <td>-2.0</td>\n",
       "      <td>2012-13</td>\n",
       "      <td>-2.0</td>\n",
       "      <td>-2.0</td>\n",
       "    </tr>\n",
       "    <tr>\n",
       "      <th>2940</th>\n",
       "      <td>Portland</td>\n",
       "      <td>Indiana</td>\n",
       "      <td>11</td>\n",
       "      <td>5.0</td>\n",
       "      <td>4.5</td>\n",
       "      <td>2009-10</td>\n",
       "      <td>6.0</td>\n",
       "      <td>6.5</td>\n",
       "    </tr>\n",
       "    <tr>\n",
       "      <th>12617</th>\n",
       "      <td>Dallas</td>\n",
       "      <td>Brooklyn</td>\n",
       "      <td>-8</td>\n",
       "      <td>-1.5</td>\n",
       "      <td>-4.5</td>\n",
       "      <td>2017-18</td>\n",
       "      <td>-6.5</td>\n",
       "      <td>-3.5</td>\n",
       "    </tr>\n",
       "  </tbody>\n",
       "</table>\n",
       "</div>"
      ],
      "text/plain": [
       "         Away Team   Home Team  Home Actual  Home Open  Home Close   Season  \\\n",
       "13057   LAClippers    Portland          -11       -4.5        -5.0  2018-19   \n",
       "10435  GoldenState     Toronto            6        3.0         6.0  2016-17   \n",
       "5365       NewYork     Detroit           23        4.0         4.0  2011-12   \n",
       "9439    NewOrleans  SanAntonio           -2       -3.5        -5.5  2014-15   \n",
       "11967       Denver     Indiana          -10       -6.5        -5.0  2017-18   \n",
       "9846    LAClippers   Minnesota            5        5.5         6.5  2014-15   \n",
       "9079    Sacramento     Memphis           -1       -6.5        -5.0  2014-15   \n",
       "7235       Houston      Dallas           -4       -2.0        -2.0  2012-13   \n",
       "2940      Portland     Indiana           11        5.0         4.5  2009-10   \n",
       "12617       Dallas    Brooklyn           -8       -1.5        -4.5  2017-18   \n",
       "\n",
       "       Diff Open  Diff Close  \n",
       "13057       -6.5        -6.0  \n",
       "10435        3.0         0.0  \n",
       "5365        19.0        19.0  \n",
       "9439         1.5         3.5  \n",
       "11967       -3.5        -5.0  \n",
       "9846        -0.5        -1.5  \n",
       "9079         5.5         4.0  \n",
       "7235        -2.0        -2.0  \n",
       "2940         6.0         6.5  \n",
       "12617       -6.5        -3.5  "
      ]
     },
     "execution_count": 8,
     "metadata": {},
     "output_type": "execute_result"
    }
   ],
   "source": [
    "cols = ['Away Team', 'Home Team', 'Home Actual', 'Home Open', 'Home Close', 'Season']\n",
    "df1 = pd.DataFrame(data,columns=cols)\n",
    "df1['Diff Open'] = df1['Home Actual'] - df1['Home Open']\n",
    "df1['Diff Close'] = df1['Home Actual'] - df1['Home Close']\n",
    "df1.sample(10)"
   ]
  },
  {
   "cell_type": "code",
   "execution_count": 9,
   "metadata": {},
   "outputs": [
    {
     "name": "stderr",
     "output_type": "stream",
     "text": [
      "C:\\Users\\rcantero\\Anaconda3\\envs\\live\\lib\\site-packages\\numpy\\lib\\histograms.py:839: RuntimeWarning: invalid value encountered in greater_equal\n",
      "  keep = (tmp_a >= first_edge)\n",
      "C:\\Users\\rcantero\\Anaconda3\\envs\\live\\lib\\site-packages\\numpy\\lib\\histograms.py:840: RuntimeWarning: invalid value encountered in less_equal\n",
      "  keep &= (tmp_a <= last_edge)\n"
     ]
    },
    {
     "data": {
      "image/png": "[encoded data removed]",
      "text/plain": [
       "<Figure size 1440x720 with 1 Axes>"
      ]
     },
     "metadata": {
      "needs_background": "light"
     },
     "output_type": "display_data"
    }
   ],
   "source": [
    "diff = df1['Diff Close'].tolist()\n",
    "fig, ax = plt.subplots()\n",
    "counts, bins, patches = ax.hist(diff, bins = 30)\n",
    "ax.set_xticks(bins)\n",
    "ax.xaxis.set_major_formatter(FormatStrFormatter('%0.1f'))\n",
    "\n",
    "# Label the raw counts and the percentages below the x-axis...\n",
    "bin_centers = 0.5 * np.diff(bins) + bins[:-1]\n",
    "for count, x in zip(counts, bin_centers):\n",
    "    # Label the raw counts\n",
    "    ax.annotate(str(count), xy=(x, 0), xycoords=('data', 'axes fraction'),\n",
    "        xytext=(0, -18), textcoords='offset points', va='top', ha='center')\n",
    "\n",
    "    # Label the percentages\n",
    "    percent = '%0.0f%%' % (100 * float(count) / counts.sum())\n",
    "    ax.annotate(percent, xy=(x, 0), xycoords=('data', 'axes fraction'),\n",
    "        xytext=(0, -32), textcoords='offset points', va='top', ha='center')\n",
    "\n",
    "\n",
    "# Give ourselves some more room at the bottom of the plot\n",
    "plt.subplots_adjust(bottom=0.15)\n",
    "plt.show()"
   ]
  },
  {
   "cell_type": "code",
   "execution_count": 10,
   "metadata": {},
   "outputs": [
    {
     "ename": "NameError",
     "evalue": "name 'd' is not defined",
     "output_type": "error",
     "traceback": [
      "\u001b[1;31m---------------------------------------------------------------------------\u001b[0m",
      "\u001b[1;31mNameError\u001b[0m                                 Traceback (most recent call last)",
      "\u001b[1;32m<ipython-input-10-aa413b6bd834>\u001b[0m in \u001b[0;36m<module>\u001b[1;34m\u001b[0m\n\u001b[1;32m----> 1\u001b[1;33m \u001b[1;32mfor\u001b[0m \u001b[0mkey\u001b[0m\u001b[1;33m,\u001b[0m \u001b[0mvalue\u001b[0m \u001b[1;32min\u001b[0m \u001b[0msorted\u001b[0m\u001b[1;33m(\u001b[0m\u001b[0md\u001b[0m\u001b[1;33m.\u001b[0m\u001b[0mitems\u001b[0m\u001b[1;33m(\u001b[0m\u001b[1;33m)\u001b[0m\u001b[1;33m,\u001b[0m \u001b[0mkey\u001b[0m\u001b[1;33m=\u001b[0m\u001b[1;32mlambda\u001b[0m \u001b[0mx\u001b[0m\u001b[1;33m:\u001b[0m \u001b[0mx\u001b[0m\u001b[1;33m[\u001b[0m\u001b[1;36m0\u001b[0m\u001b[1;33m]\u001b[0m\u001b[1;33m)\u001b[0m\u001b[1;33m:\u001b[0m\u001b[1;33m\u001b[0m\u001b[1;33m\u001b[0m\u001b[0m\n\u001b[0m\u001b[0;32m      2\u001b[0m     \u001b[0mprint\u001b[0m\u001b[1;33m(\u001b[0m\u001b[1;34m\"{} : {}\"\u001b[0m\u001b[1;33m.\u001b[0m\u001b[0mformat\u001b[0m\u001b[1;33m(\u001b[0m\u001b[0mkey\u001b[0m\u001b[1;33m,\u001b[0m \u001b[0mvalue\u001b[0m\u001b[1;33m)\u001b[0m\u001b[1;33m)\u001b[0m\u001b[1;33m\u001b[0m\u001b[1;33m\u001b[0m\u001b[0m\n",
      "\u001b[1;31mNameError\u001b[0m: name 'd' is not defined"
     ]
    }
   ],
   "source": [
    "for key, value in sorted(d.items(), key=lambda x: x[0]): \n",
    "    print(\"{} : {}\".format(key, value))"
   ]
  },
  {
   "cell_type": "code",
   "execution_count": 11,
   "metadata": {},
   "outputs": [],
   "source": [
    "def find_per(low, hi, diff):\n",
    "    # Create a python dict so we can do some more analysis\n",
    "    d = {}\n",
    "    for x in diff:\n",
    "        if x in d:\n",
    "            d[x] += 1\n",
    "        else:\n",
    "            d[x] = 1\n",
    "    \n",
    "    # What % of games fall between certain values\n",
    "    diff_low = low\n",
    "    diff_hi = hi\n",
    "    tmp = 0\n",
    "    total = 0\n",
    "    for k in d:\n",
    "        total += d[k]\n",
    "        if k >= diff_low and k <= diff_hi:\n",
    "            tmp += d[k]\n",
    "\n",
    "\n",
    "    print(\"{:.2f}% of games had a final score that fell between {} and {} of the closing odds\".format((tmp/total)*100,diff_low,diff_hi))"
   ]
  },
  {
   "cell_type": "code",
   "execution_count": 13,
   "metadata": {},
   "outputs": [
    {
     "name": "stdout",
     "output_type": "stream",
     "text": [
      "80.96% of games had a final score that fell between -100 and 10 of the closing odds\n"
     ]
    }
   ],
   "source": [
    "find_per(-100,10,diff)"
   ]
  },
  {
   "cell_type": "code",
   "execution_count": 14,
   "metadata": {},
   "outputs": [
    {
     "name": "stdout",
     "output_type": "stream",
     "text": [
      "67.75% of games had a final score that fell between -100 and 5 of the closing odds\n"
     ]
    }
   ],
   "source": [
    "find_per(-100,5,diff)"
   ]
  },
  {
   "cell_type": "code",
   "execution_count": 15,
   "metadata": {},
   "outputs": [
    {
     "name": "stdout",
     "output_type": "stream",
     "text": [
      "60.95% of games had a final score that fell between -100 and 3 of the closing odds\n"
     ]
    }
   ],
   "source": [
    "find_per(-100,3,diff)"
   ]
  },
  {
   "cell_type": "code",
   "execution_count": 39,
   "metadata": {},
   "outputs": [],
   "source": [
    "# Does this really mean that if I can find a live line that favors the home team by 5 more pts than the \n",
    "# closing line, I have a 67.75% chance of winning\n",
    "\n",
    "# Going to test it with the live odds data I scraped\n",
    "\n",
    "# I feel like a possible flaw is that games where that live odd appears account for more of the 32.25% losses"
   ]
  },
  {
   "cell_type": "code",
   "execution_count": 16,
   "metadata": {},
   "outputs": [
    {
     "data": {
      "text/html": [
       "<div>\n",
       "<style scoped>\n",
       "    .dataframe tbody tr th:only-of-type {\n",
       "        vertical-align: middle;\n",
       "    }\n",
       "\n",
       "    .dataframe tbody tr th {\n",
       "        vertical-align: top;\n",
       "    }\n",
       "\n",
       "    .dataframe thead th {\n",
       "        text-align: right;\n",
       "    }\n",
       "</style>\n",
       "<table border=\"1\" class=\"dataframe\">\n",
       "  <thead>\n",
       "    <tr style=\"text-align: right;\">\n",
       "      <th></th>\n",
       "      <th>index</th>\n",
       "      <th>Time</th>\n",
       "      <th>Away Team</th>\n",
       "      <th>Home Team</th>\n",
       "      <th>Home Line</th>\n",
       "      <th>Home Odds</th>\n",
       "      <th>Home Score</th>\n",
       "      <th>Away Score</th>\n",
       "      <th>Home Line Open</th>\n",
       "      <th>Actual</th>\n",
       "      <th>Diff</th>\n",
       "    </tr>\n",
       "  </thead>\n",
       "  <tbody>\n",
       "    <tr>\n",
       "      <th>0</th>\n",
       "      <td>388</td>\n",
       "      <td>1/4 8:35:48 am</td>\n",
       "      <td>Atlanta Hawks</td>\n",
       "      <td>Boston Celtics</td>\n",
       "      <td>2.0</td>\n",
       "      <td>-115</td>\n",
       "      <td>109</td>\n",
       "      <td>106</td>\n",
       "      <td>-10.5</td>\n",
       "      <td>-3</td>\n",
       "      <td>7.5</td>\n",
       "    </tr>\n",
       "    <tr>\n",
       "      <th>1</th>\n",
       "      <td>368</td>\n",
       "      <td>2/8 9:55:28 am</td>\n",
       "      <td>Atlanta Hawks</td>\n",
       "      <td>Boston Celtics</td>\n",
       "      <td>-5.0</td>\n",
       "      <td>-112</td>\n",
       "      <td>112</td>\n",
       "      <td>107</td>\n",
       "      <td>-13.0</td>\n",
       "      <td>-5</td>\n",
       "      <td>8.0</td>\n",
       "    </tr>\n",
       "    <tr>\n",
       "      <th>2</th>\n",
       "      <td>195</td>\n",
       "      <td>12/22 8:32:02 am</td>\n",
       "      <td>Atlanta Hawks</td>\n",
       "      <td>Brooklyn Nets</td>\n",
       "      <td>10.0</td>\n",
       "      <td>-116</td>\n",
       "      <td>122</td>\n",
       "      <td>112</td>\n",
       "      <td>-7.5</td>\n",
       "      <td>-10</td>\n",
       "      <td>-2.5</td>\n",
       "    </tr>\n",
       "    <tr>\n",
       "      <th>3</th>\n",
       "      <td>407</td>\n",
       "      <td>1/13 7:09:23 am</td>\n",
       "      <td>Atlanta Hawks</td>\n",
       "      <td>Brooklyn Nets</td>\n",
       "      <td>-8.5</td>\n",
       "      <td>-107</td>\n",
       "      <td>108</td>\n",
       "      <td>86</td>\n",
       "      <td>-8.5</td>\n",
       "      <td>-22</td>\n",
       "      <td>-13.5</td>\n",
       "    </tr>\n",
       "    <tr>\n",
       "      <th>4</th>\n",
       "      <td>12</td>\n",
       "      <td>12/9 8:01:06 am</td>\n",
       "      <td>Atlanta Hawks</td>\n",
       "      <td>Charlotte Hornets</td>\n",
       "      <td>14.5</td>\n",
       "      <td>-116</td>\n",
       "      <td>107</td>\n",
       "      <td>122</td>\n",
       "      <td>-2.0</td>\n",
       "      <td>15</td>\n",
       "      <td>17.0</td>\n",
       "    </tr>\n",
       "  </tbody>\n",
       "</table>\n",
       "</div>"
      ],
      "text/plain": [
       "   index              Time      Away Team          Home Team  Home Line  \\\n",
       "0    388    1/4 8:35:48 am  Atlanta Hawks     Boston Celtics        2.0   \n",
       "1    368    2/8 9:55:28 am  Atlanta Hawks     Boston Celtics       -5.0   \n",
       "2    195  12/22 8:32:02 am  Atlanta Hawks      Brooklyn Nets       10.0   \n",
       "3    407   1/13 7:09:23 am  Atlanta Hawks      Brooklyn Nets       -8.5   \n",
       "4     12   12/9 8:01:06 am  Atlanta Hawks  Charlotte Hornets       14.5   \n",
       "\n",
       "   Home Odds  Home Score  Away Score  Home Line Open  Actual  Diff  \n",
       "0       -115         109         106           -10.5      -3   7.5  \n",
       "1       -112         112         107           -13.0      -5   8.0  \n",
       "2       -116         122         112            -7.5     -10  -2.5  \n",
       "3       -107         108          86            -8.5     -22 -13.5  \n",
       "4       -116         107         122            -2.0      15  17.0  "
      ]
     },
     "execution_count": 16,
     "metadata": {},
     "output_type": "execute_result"
    }
   ],
   "source": [
    "# What I need are the closing home line, what the max line was in favor of the home team, \n",
    "# the odds of that line, and the actual score\n",
    "\n",
    "# First lets create a pandas dataframe containing all of the data we have so far\n",
    "path = \"games\"\n",
    "frames = []\n",
    "for file in os.listdir(path):\n",
    "    if file.endswith(\".csv\"):\n",
    "        tmp = pd.read_csv(path+'/'+file)\n",
    "        tmp['Actual'] = tmp['Away Score'] - tmp['Home Score']\n",
    "        tmp['Diff'] = tmp['Actual'] - tmp['Home Line Open']\n",
    "        frames.append(tmp.loc[tmp['Home Odds'] >= -140].nlargest(1,'Home Line'))\n",
    "        \n",
    "df2 = pd.concat(frames)\n",
    "df2.reset_index(inplace=True)\n",
    "df2.drop(columns=['Book','Away Line','Away Odds','Away Line Open'],inplace=True)\n",
    "df2.head()"
   ]
  },
  {
   "cell_type": "code",
   "execution_count": 17,
   "metadata": {},
   "outputs": [
    {
     "data": {
      "text/plain": [
       "-0.04398447606727038"
      ]
     },
     "execution_count": 17,
     "metadata": {},
     "output_type": "execute_result"
    }
   ],
   "source": [
    "df2['Diff'].mean()"
   ]
  },
  {
   "cell_type": "code",
   "execution_count": 18,
   "metadata": {},
   "outputs": [
    {
     "data": {
      "text/plain": [
       "True     496\n",
       "False    277\n",
       "dtype: int64"
      ]
     },
     "execution_count": 18,
     "metadata": {},
     "output_type": "execute_result"
    }
   ],
   "source": [
    "(df2['Home Line Open']+5 > df2['Actual']).value_counts()"
   ]
  },
  {
   "cell_type": "code",
   "execution_count": 19,
   "metadata": {},
   "outputs": [
    {
     "data": {
      "text/plain": [
       "0.6391304347826087"
      ]
     },
     "execution_count": 19,
     "metadata": {},
     "output_type": "execute_result"
    }
   ],
   "source": [
    "441/(690)\n",
    "\n",
    "# So betting the home opening line + 5 wins 64% of bets. Not far from the 67.75% we saw above. \n",
    "# However how many of these games actually had live odds like that? "
   ]
  },
  {
   "cell_type": "code",
   "execution_count": 20,
   "metadata": {},
   "outputs": [
    {
     "name": "stdout",
     "output_type": "stream",
     "text": [
      "(496, 11)\n"
     ]
    },
    {
     "data": {
      "text/html": [
       "<div>\n",
       "<style scoped>\n",
       "    .dataframe tbody tr th:only-of-type {\n",
       "        vertical-align: middle;\n",
       "    }\n",
       "\n",
       "    .dataframe tbody tr th {\n",
       "        vertical-align: top;\n",
       "    }\n",
       "\n",
       "    .dataframe thead th {\n",
       "        text-align: right;\n",
       "    }\n",
       "</style>\n",
       "<table border=\"1\" class=\"dataframe\">\n",
       "  <thead>\n",
       "    <tr style=\"text-align: right;\">\n",
       "      <th></th>\n",
       "      <th>index</th>\n",
       "      <th>Time</th>\n",
       "      <th>Away Team</th>\n",
       "      <th>Home Team</th>\n",
       "      <th>Home Line</th>\n",
       "      <th>Home Odds</th>\n",
       "      <th>Home Score</th>\n",
       "      <th>Away Score</th>\n",
       "      <th>Home Line Open</th>\n",
       "      <th>Actual</th>\n",
       "      <th>Diff</th>\n",
       "    </tr>\n",
       "  </thead>\n",
       "  <tbody>\n",
       "    <tr>\n",
       "      <th>0</th>\n",
       "      <td>388</td>\n",
       "      <td>1/4 8:35:48 am</td>\n",
       "      <td>Atlanta Hawks</td>\n",
       "      <td>Boston Celtics</td>\n",
       "      <td>2.0</td>\n",
       "      <td>-115</td>\n",
       "      <td>109</td>\n",
       "      <td>106</td>\n",
       "      <td>-10.5</td>\n",
       "      <td>-3</td>\n",
       "      <td>7.5</td>\n",
       "    </tr>\n",
       "    <tr>\n",
       "      <th>1</th>\n",
       "      <td>368</td>\n",
       "      <td>2/8 9:55:28 am</td>\n",
       "      <td>Atlanta Hawks</td>\n",
       "      <td>Boston Celtics</td>\n",
       "      <td>-5.0</td>\n",
       "      <td>-112</td>\n",
       "      <td>112</td>\n",
       "      <td>107</td>\n",
       "      <td>-13.0</td>\n",
       "      <td>-5</td>\n",
       "      <td>8.0</td>\n",
       "    </tr>\n",
       "    <tr>\n",
       "      <th>2</th>\n",
       "      <td>195</td>\n",
       "      <td>12/22 8:32:02 am</td>\n",
       "      <td>Atlanta Hawks</td>\n",
       "      <td>Brooklyn Nets</td>\n",
       "      <td>10.0</td>\n",
       "      <td>-116</td>\n",
       "      <td>122</td>\n",
       "      <td>112</td>\n",
       "      <td>-7.5</td>\n",
       "      <td>-10</td>\n",
       "      <td>-2.5</td>\n",
       "    </tr>\n",
       "    <tr>\n",
       "      <th>4</th>\n",
       "      <td>12</td>\n",
       "      <td>12/9 8:01:06 am</td>\n",
       "      <td>Atlanta Hawks</td>\n",
       "      <td>Charlotte Hornets</td>\n",
       "      <td>14.5</td>\n",
       "      <td>-116</td>\n",
       "      <td>107</td>\n",
       "      <td>122</td>\n",
       "      <td>-2.0</td>\n",
       "      <td>15</td>\n",
       "      <td>17.0</td>\n",
       "    </tr>\n",
       "    <tr>\n",
       "      <th>5</th>\n",
       "      <td>377</td>\n",
       "      <td>12/12 9:27:47 am</td>\n",
       "      <td>Atlanta Hawks</td>\n",
       "      <td>Chicago Bulls</td>\n",
       "      <td>-1.0</td>\n",
       "      <td>-120</td>\n",
       "      <td>136</td>\n",
       "      <td>102</td>\n",
       "      <td>-6.5</td>\n",
       "      <td>-34</td>\n",
       "      <td>-27.5</td>\n",
       "    </tr>\n",
       "  </tbody>\n",
       "</table>\n",
       "</div>"
      ],
      "text/plain": [
       "   index              Time      Away Team          Home Team  Home Line  \\\n",
       "0    388    1/4 8:35:48 am  Atlanta Hawks     Boston Celtics        2.0   \n",
       "1    368    2/8 9:55:28 am  Atlanta Hawks     Boston Celtics       -5.0   \n",
       "2    195  12/22 8:32:02 am  Atlanta Hawks      Brooklyn Nets       10.0   \n",
       "4     12   12/9 8:01:06 am  Atlanta Hawks  Charlotte Hornets       14.5   \n",
       "5    377  12/12 9:27:47 am  Atlanta Hawks      Chicago Bulls       -1.0   \n",
       "\n",
       "   Home Odds  Home Score  Away Score  Home Line Open  Actual  Diff  \n",
       "0       -115         109         106           -10.5      -3   7.5  \n",
       "1       -112         112         107           -13.0      -5   8.0  \n",
       "2       -116         122         112            -7.5     -10  -2.5  \n",
       "4       -116         107         122            -2.0      15  17.0  \n",
       "5       -120         136         102            -6.5     -34 -27.5  "
      ]
     },
     "execution_count": 20,
     "metadata": {},
     "output_type": "execute_result"
    }
   ],
   "source": [
    "# Find all the games where the highest live home odds was at least the home opening line + 5\n",
    "# The games not included here are games where the favorite team probably lead the entire time. Thus no good live odds\n",
    "tmp = df2.loc[df2['Home Line'] >= df2['Home Line Open'] + 5]\n",
    "print(tmp.shape)\n",
    "tmp.head()"
   ]
  },
  {
   "cell_type": "code",
   "execution_count": 21,
   "metadata": {},
   "outputs": [
    {
     "name": "stdout",
     "output_type": "stream",
     "text": [
      "True     399\n",
      "False     97\n",
      "Name: Win, dtype: int64\n",
      "Win %:  80.44354838709677\n",
      "Diff:  5.047379032258065\n"
     ]
    },
    {
     "name": "stderr",
     "output_type": "stream",
     "text": [
      "C:\\Users\\rcantero\\Anaconda3\\envs\\live\\lib\\site-packages\\ipykernel_launcher.py:3: SettingWithCopyWarning: \n",
      "A value is trying to be set on a copy of a slice from a DataFrame.\n",
      "Try using .loc[row_indexer,col_indexer] = value instead\n",
      "\n",
      "See the caveats in the documentation: http://pandas.pydata.org/pandas-docs/stable/user_guide/indexing.html#returning-a-view-versus-a-copy\n",
      "  This is separate from the ipykernel package so we can avoid doing imports until\n"
     ]
    }
   ],
   "source": [
    "# Lets find how many bets would result in a win if I bet at the highest home line\n",
    "# If the home line is greater than the actual result, the bet won\n",
    "tmp[\"Win\"] = tmp['Home Line'] > tmp['Actual']\n",
    "print(tmp.Win.value_counts())\n",
    "print('Win %: ', tmp.Win.value_counts()[True]*100/(tmp.Win.value_counts()[True]+tmp.Win.value_counts()[False]))\n",
    "print('Diff: ',tmp['Diff'].mean())"
   ]
  },
  {
   "cell_type": "code",
   "execution_count": 140,
   "metadata": {},
   "outputs": [],
   "source": [
    "# 80% of bets would result in a win if I bet at the highest home odds. Of course, during a live game I would never\n",
    "# know when the home odds actually are at its highest (use ML?)\n",
    "\n",
    "# The diff of 5.2 means that in these games, the home team lost by 5.2pts more than the opening line\n",
    "\n",
    "# Very interesting correlation\n",
    "# Games where the highest live home odds are >= X usually lose by Xpts more than the opening line"
   ]
  },
  {
   "cell_type": "code",
   "execution_count": 22,
   "metadata": {},
   "outputs": [
    {
     "name": "stdout",
     "output_type": "stream",
     "text": [
      "False    262\n",
      "True     234\n",
      "Name: Win, dtype: int64\n",
      "Win %:  47.17741935483871\n",
      "Diff:  5.047379032258065\n"
     ]
    },
    {
     "name": "stderr",
     "output_type": "stream",
     "text": [
      "C:\\Users\\rcantero\\Anaconda3\\envs\\live\\lib\\site-packages\\ipykernel_launcher.py:5: SettingWithCopyWarning: \n",
      "A value is trying to be set on a copy of a slice from a DataFrame.\n",
      "Try using .loc[row_indexer,col_indexer] = value instead\n",
      "\n",
      "See the caveats in the documentation: http://pandas.pydata.org/pandas-docs/stable/user_guide/indexing.html#returning-a-view-versus-a-copy\n",
      "  \"\"\"\n"
     ]
    }
   ],
   "source": [
    "# 80% of bets would result in a win if I bet at the highest home odds. Of course, during a live game I would never\n",
    "# know when the home odds actually are at its highest\n",
    "\n",
    "# What about bets done at the opening line + 5?\n",
    "tmp[\"Win\"] = tmp['Home Line Open'] + 5 > tmp['Actual']\n",
    "print(tmp.Win.value_counts())\n",
    "print('Win %: ', tmp.Win.value_counts()[True]*100/(tmp.Win.value_counts()[True]+tmp.Win.value_counts()[False]))\n",
    "print('Diff: ',tmp['Diff'].mean())"
   ]
  },
  {
   "cell_type": "code",
   "execution_count": 143,
   "metadata": {},
   "outputs": [],
   "source": [
    "# Yikes 47%. So just betting on the home team line when it is 5pts better when it opened is NOT a winning strategy.\n",
    "# This might actually need deep learning. I don't see any trends right now."
   ]
  },
  {
   "cell_type": "code",
   "execution_count": 145,
   "metadata": {},
   "outputs": [],
   "source": [
    "# I also want to see what the different histograms look like for different closing odd ranges\n",
    "# When the odds range from -1 to -3 should be different than when the home team is favored -12 to -15"
   ]
  },
  {
   "cell_type": "code",
   "execution_count": 25,
   "metadata": {},
   "outputs": [
    {
     "name": "stdout",
     "output_type": "stream",
     "text": [
      "(5432, 8)\n",
      "66.79% of games had a final score that fell between -100 and 5 of the closing odds\n"
     ]
    },
    {
     "data": {
      "image/png": "[encoded data removed]",
      "text/plain": [
       "<Figure size 1440x720 with 1 Axes>"
      ]
     },
     "metadata": {
      "needs_background": "light"
     },
     "output_type": "display_data"
    }
   ],
   "source": [
    "tmp = df1.loc[(abs(df1['Home Close']) >= 0) & (abs(df1['Home Close']) <= 4.5)]\n",
    "tmp = tmp.loc[(tmp['Diff Close'] >= -20) & (tmp['Diff Close'] <= 20)]\n",
    "print(tmp.shape)\n",
    "diff = tmp['Diff Close'].tolist()\n",
    "fig, ax = plt.subplots()\n",
    "counts, bins, patches = ax.hist(diff, bins = 20)\n",
    "ax.set_xticks(bins)\n",
    "ax.xaxis.set_major_formatter(FormatStrFormatter('%0.1f'))\n",
    "\n",
    "# Label the raw counts and the percentages below the x-axis...\n",
    "bin_centers = 0.5 * np.diff(bins) + bins[:-1]\n",
    "for count, x in zip(counts, bin_centers):\n",
    "    # Label the raw counts\n",
    "    ax.annotate(str(count), xy=(x, 0), xycoords=('data', 'axes fraction'),\n",
    "        xytext=(0, -18), textcoords='offset points', va='top', ha='center')\n",
    "\n",
    "    # Label the percentages\n",
    "    percent = '%0.0f%%' % (100 * float(count) / counts.sum())\n",
    "    ax.annotate(percent, xy=(x, 0), xycoords=('data', 'axes fraction'),\n",
    "        xytext=(0, -32), textcoords='offset points', va='top', ha='center')\n",
    "\n",
    "\n",
    "# Give ourselves some more room at the bottom of the plot\n",
    "plt.subplots_adjust(bottom=0.15)\n",
    "find_per(-100,5,diff)\n",
    "plt.show()"
   ]
  },
  {
   "cell_type": "code",
   "execution_count": 26,
   "metadata": {},
   "outputs": [
    {
     "name": "stdout",
     "output_type": "stream",
     "text": [
      "(6403, 8)\n",
      "71.62% of games had a final score that fell between -100 and 5 of the closing odds\n"
     ]
    },
    {
     "data": {
      "image/png": "[encoded data removed]",
      "text/plain": [
       "<Figure size 1440x720 with 1 Axes>"
      ]
     },
     "metadata": {
      "needs_background": "light"
     },
     "output_type": "display_data"
    }
   ],
   "source": [
    "tmp = df1.loc[(abs(df1['Home Close']) >= 5) & (abs(df1['Home Close']) <= 10.5)]\n",
    "tmp = tmp.loc[(tmp['Diff Close'] >= -20) & (tmp['Diff Close'] <= 20)]\n",
    "print(tmp.shape)\n",
    "diff = tmp['Diff Close'].tolist()\n",
    "fig, ax = plt.subplots()\n",
    "counts, bins, patches = ax.hist(diff, bins = 20)\n",
    "ax.set_xticks(bins)\n",
    "ax.xaxis.set_major_formatter(FormatStrFormatter('%0.1f'))\n",
    "\n",
    "# Label the raw counts and the percentages below the x-axis...\n",
    "bin_centers = 0.5 * np.diff(bins) + bins[:-1]\n",
    "for count, x in zip(counts, bin_centers):\n",
    "    # Label the raw counts\n",
    "    ax.annotate(str(count), xy=(x, 0), xycoords=('data', 'axes fraction'),\n",
    "        xytext=(0, -18), textcoords='offset points', va='top', ha='center')\n",
    "\n",
    "    # Label the percentages\n",
    "    percent = '%0.0f%%' % (100 * float(count) / counts.sum())\n",
    "    ax.annotate(percent, xy=(x, 0), xycoords=('data', 'axes fraction'),\n",
    "        xytext=(0, -32), textcoords='offset points', va='top', ha='center')\n",
    "\n",
    "\n",
    "# Give ourselves some more room at the bottom of the plot\n",
    "plt.subplots_adjust(bottom=0.15)\n",
    "find_per(-100,5,diff)\n",
    "plt.show()"
   ]
  },
  {
   "cell_type": "code",
   "execution_count": 27,
   "metadata": {},
   "outputs": [
    {
     "name": "stdout",
     "output_type": "stream",
     "text": [
      "(1894, 8)\n",
      "69.64% of games had a final score that fell between -100 and 5 of the closing odds\n"
     ]
    },
    {
     "data": {
      "image/png": "[encoded data removed]",
      "text/plain": [
       "<Figure size 1440x720 with 1 Axes>"
      ]
     },
     "metadata": {
      "needs_background": "light"
     },
     "output_type": "display_data"
    }
   ],
   "source": [
    "tmp = df1.loc[(abs(df1['Home Close']) >= 10.5)]\n",
    "tmp = tmp.loc[(tmp['Diff Close'] >= -20) & (tmp['Diff Close'] <= 20)]\n",
    "print(tmp.shape)\n",
    "diff = tmp['Diff Close'].tolist()\n",
    "fig, ax = plt.subplots()\n",
    "counts, bins, patches = ax.hist(diff, bins = 20)\n",
    "ax.set_xticks(bins)\n",
    "ax.xaxis.set_major_formatter(FormatStrFormatter('%0.1f'))\n",
    "\n",
    "# Label the raw counts and the percentages below the x-axis...\n",
    "bin_centers = 0.5 * np.diff(bins) + bins[:-1]\n",
    "for count, x in zip(counts, bin_centers):\n",
    "    # Label the raw counts\n",
    "    ax.annotate(str(count), xy=(x, 0), xycoords=('data', 'axes fraction'),\n",
    "        xytext=(0, -18), textcoords='offset points', va='top', ha='center')\n",
    "\n",
    "    # Label the percentages\n",
    "    percent = '%0.0f%%' % (100 * float(count) / counts.sum())\n",
    "    ax.annotate(percent, xy=(x, 0), xycoords=('data', 'axes fraction'),\n",
    "        xytext=(0, -32), textcoords='offset points', va='top', ha='center')\n",
    "\n",
    "\n",
    "# Give ourselves some more room at the bottom of the plot\n",
    "plt.subplots_adjust(bottom=0.15)\n",
    "find_per(-100,5,diff)\n",
    "plt.show()"
   ]
  },
  {
   "cell_type": "code",
   "execution_count": 175,
   "metadata": {},
   "outputs": [],
   "source": [
    "# Another interesting finding. Apparently bookmakers are more accurate at \n",
    "# predicting games having high spreads (-13) than low spread (PK) games"
   ]
  },
  {
   "cell_type": "code",
   "execution_count": 31,
   "metadata": {},
   "outputs": [
    {
     "name": "stdout",
     "output_type": "stream",
     "text": [
      "(293, 11)\n"
     ]
    },
    {
     "data": {
      "text/html": [
       "<div>\n",
       "<style scoped>\n",
       "    .dataframe tbody tr th:only-of-type {\n",
       "        vertical-align: middle;\n",
       "    }\n",
       "\n",
       "    .dataframe tbody tr th {\n",
       "        vertical-align: top;\n",
       "    }\n",
       "\n",
       "    .dataframe thead th {\n",
       "        text-align: right;\n",
       "    }\n",
       "</style>\n",
       "<table border=\"1\" class=\"dataframe\">\n",
       "  <thead>\n",
       "    <tr style=\"text-align: right;\">\n",
       "      <th></th>\n",
       "      <th>index</th>\n",
       "      <th>Time</th>\n",
       "      <th>Away Team</th>\n",
       "      <th>Home Team</th>\n",
       "      <th>Home Line</th>\n",
       "      <th>Home Odds</th>\n",
       "      <th>Home Score</th>\n",
       "      <th>Away Score</th>\n",
       "      <th>Home Line Open</th>\n",
       "      <th>Actual</th>\n",
       "      <th>Diff</th>\n",
       "    </tr>\n",
       "  </thead>\n",
       "  <tbody>\n",
       "    <tr>\n",
       "      <th>0</th>\n",
       "      <td>388</td>\n",
       "      <td>1/4 8:35:48 am</td>\n",
       "      <td>Atlanta Hawks</td>\n",
       "      <td>Boston Celtics</td>\n",
       "      <td>2.0</td>\n",
       "      <td>-115</td>\n",
       "      <td>109</td>\n",
       "      <td>106</td>\n",
       "      <td>-10.5</td>\n",
       "      <td>-3</td>\n",
       "      <td>7.5</td>\n",
       "    </tr>\n",
       "    <tr>\n",
       "      <th>2</th>\n",
       "      <td>195</td>\n",
       "      <td>12/22 8:32:02 am</td>\n",
       "      <td>Atlanta Hawks</td>\n",
       "      <td>Brooklyn Nets</td>\n",
       "      <td>10.0</td>\n",
       "      <td>-116</td>\n",
       "      <td>122</td>\n",
       "      <td>112</td>\n",
       "      <td>-7.5</td>\n",
       "      <td>-10</td>\n",
       "      <td>-2.5</td>\n",
       "    </tr>\n",
       "    <tr>\n",
       "      <th>4</th>\n",
       "      <td>12</td>\n",
       "      <td>12/9 8:01:06 am</td>\n",
       "      <td>Atlanta Hawks</td>\n",
       "      <td>Charlotte Hornets</td>\n",
       "      <td>14.5</td>\n",
       "      <td>-116</td>\n",
       "      <td>107</td>\n",
       "      <td>122</td>\n",
       "      <td>-2.0</td>\n",
       "      <td>15</td>\n",
       "      <td>17.0</td>\n",
       "    </tr>\n",
       "    <tr>\n",
       "      <th>9</th>\n",
       "      <td>113</td>\n",
       "      <td>11/13 11:45:45 am</td>\n",
       "      <td>Atlanta Hawks</td>\n",
       "      <td>Denver Nuggets</td>\n",
       "      <td>4.5</td>\n",
       "      <td>-112</td>\n",
       "      <td>121</td>\n",
       "      <td>125</td>\n",
       "      <td>-10.0</td>\n",
       "      <td>4</td>\n",
       "      <td>14.0</td>\n",
       "    </tr>\n",
       "    <tr>\n",
       "      <th>10</th>\n",
       "      <td>4</td>\n",
       "      <td>10/25 9:16:31 am</td>\n",
       "      <td>Atlanta Hawks</td>\n",
       "      <td>Detroit Pistons</td>\n",
       "      <td>10.5</td>\n",
       "      <td>100</td>\n",
       "      <td>100</td>\n",
       "      <td>117</td>\n",
       "      <td>-1.5</td>\n",
       "      <td>17</td>\n",
       "      <td>18.5</td>\n",
       "    </tr>\n",
       "  </tbody>\n",
       "</table>\n",
       "</div>"
      ],
      "text/plain": [
       "    index               Time      Away Team          Home Team  Home Line  \\\n",
       "0     388     1/4 8:35:48 am  Atlanta Hawks     Boston Celtics        2.0   \n",
       "2     195   12/22 8:32:02 am  Atlanta Hawks      Brooklyn Nets       10.0   \n",
       "4      12    12/9 8:01:06 am  Atlanta Hawks  Charlotte Hornets       14.5   \n",
       "9     113  11/13 11:45:45 am  Atlanta Hawks     Denver Nuggets        4.5   \n",
       "10      4   10/25 9:16:31 am  Atlanta Hawks    Detroit Pistons       10.5   \n",
       "\n",
       "    Home Odds  Home Score  Away Score  Home Line Open  Actual  Diff  \n",
       "0        -115         109         106           -10.5      -3   7.5  \n",
       "2        -116         122         112            -7.5     -10  -2.5  \n",
       "4        -116         107         122            -2.0      15  17.0  \n",
       "9        -112         121         125           -10.0       4  14.0  \n",
       "10        100         100         117            -1.5      17  18.5  "
      ]
     },
     "execution_count": 31,
     "metadata": {},
     "output_type": "execute_result"
    }
   ],
   "source": [
    "# Find all the games where the highest live home odds was at least the home opening line + 5\n",
    "# The games not included here are games where the favorite team probably lead the entire time. Thus no good live odds\n",
    "tmp = df2.loc[df2['Home Line'] >= df2['Home Line Open'] + 10]\n",
    "print(tmp.shape)\n",
    "tmp.head()"
   ]
  },
  {
   "cell_type": "code",
   "execution_count": 32,
   "metadata": {},
   "outputs": [
    {
     "name": "stdout",
     "output_type": "stream",
     "text": [
      "True     223\n",
      "False     70\n",
      "Name: Win, dtype: int64\n",
      "Win %:  76.10921501706484\n",
      "Diff:  9.709897610921502\n"
     ]
    },
    {
     "name": "stderr",
     "output_type": "stream",
     "text": [
      "C:\\Users\\rcantero\\Anaconda3\\envs\\live\\lib\\site-packages\\ipykernel_launcher.py:3: SettingWithCopyWarning: \n",
      "A value is trying to be set on a copy of a slice from a DataFrame.\n",
      "Try using .loc[row_indexer,col_indexer] = value instead\n",
      "\n",
      "See the caveats in the documentation: http://pandas.pydata.org/pandas-docs/stable/user_guide/indexing.html#returning-a-view-versus-a-copy\n",
      "  This is separate from the ipykernel package so we can avoid doing imports until\n"
     ]
    }
   ],
   "source": [
    "# Lets find how many bets would result in a win if I bet at the highest home line\n",
    "# If the home line is greater than the actual result, the bet won\n",
    "tmp[\"Win\"] = tmp['Home Line'] > tmp['Actual']\n",
    "print(tmp.Win.value_counts())\n",
    "print('Win %: ', tmp.Win.value_counts()[True]*100/(tmp.Win.value_counts()[True]+tmp.Win.value_counts()[False]))\n",
    "print('Diff: ',tmp['Diff'].mean())"
   ]
  },
  {
   "cell_type": "code",
   "execution_count": 33,
   "metadata": {},
   "outputs": [
    {
     "name": "stdout",
     "output_type": "stream",
     "text": [
      "False    149\n",
      "True     144\n",
      "Name: Win, dtype: int64\n",
      "Win %:  49.14675767918089\n",
      "Diff:  9.709897610921502\n"
     ]
    },
    {
     "name": "stderr",
     "output_type": "stream",
     "text": [
      "C:\\Users\\rcantero\\Anaconda3\\envs\\live\\lib\\site-packages\\ipykernel_launcher.py:5: SettingWithCopyWarning: \n",
      "A value is trying to be set on a copy of a slice from a DataFrame.\n",
      "Try using .loc[row_indexer,col_indexer] = value instead\n",
      "\n",
      "See the caveats in the documentation: http://pandas.pydata.org/pandas-docs/stable/user_guide/indexing.html#returning-a-view-versus-a-copy\n",
      "  \"\"\"\n"
     ]
    }
   ],
   "source": [
    "# 80% of bets would result in a win if I bet at the highest home odds. Of course, during a live game I would never\n",
    "# know when the home odds actually are at its highest\n",
    "\n",
    "# What about bets done at the opening line + 5?\n",
    "tmp[\"Win\"] = tmp['Home Line Open'] + 10 > tmp['Actual']\n",
    "print(tmp.Win.value_counts())\n",
    "print('Win %: ', tmp.Win.value_counts()[True]*100/(tmp.Win.value_counts()[True]+tmp.Win.value_counts()[False]))\n",
    "print('Diff: ',tmp['Diff'].mean())"
   ]
  },
  {
   "cell_type": "code",
   "execution_count": null,
   "metadata": {},
   "outputs": [],
   "source": []
  }
 ],
 "metadata": {
  "kernelspec": {
   "display_name": "Python 3",
   "language": "python",
   "name": "python3"
  },
  "language_info": {
   "codemirror_mode": {
    "name": "ipython",
    "version": 3
   },
   "file_extension": ".py",
   "mimetype": "text/x-python",
   "name": "python",
   "nbconvert_exporter": "python",
   "pygments_lexer": "ipython3",
   "version": "3.6.10"
  }
 },
 "nbformat": 4,
 "nbformat_minor": 2
}
