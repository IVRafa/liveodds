{
 "cells": [
  {
   "cell_type": "code",
   "execution_count": 96,
   "metadata": {},
   "outputs": [],
   "source": [
    "import pandas as pd\n",
    "import numpy as np\n",
    "import os\n",
    "from math import floor"
   ]
  },
  {
   "cell_type": "code",
   "execution_count": 86,
   "metadata": {},
   "outputs": [
    {
     "data": {
      "text/html": [
       "<div>\n",
       "<style scoped>\n",
       "    .dataframe tbody tr th:only-of-type {\n",
       "        vertical-align: middle;\n",
       "    }\n",
       "\n",
       "    .dataframe tbody tr th {\n",
       "        vertical-align: top;\n",
       "    }\n",
       "\n",
       "    .dataframe thead th {\n",
       "        text-align: right;\n",
       "    }\n",
       "</style>\n",
       "<table border=\"1\" class=\"dataframe\">\n",
       "  <thead>\n",
       "    <tr style=\"text-align: right;\">\n",
       "      <th></th>\n",
       "      <th>index</th>\n",
       "      <th>0</th>\n",
       "      <th>1</th>\n",
       "    </tr>\n",
       "  </thead>\n",
       "  <tbody>\n",
       "    <tr>\n",
       "      <th>0</th>\n",
       "      <td>0</td>\n",
       "      <td>545</td>\n",
       "      <td>Atlanta_Hawks@Boston_Celtics_2020-01-04.csv</td>\n",
       "    </tr>\n",
       "    <tr>\n",
       "      <th>1</th>\n",
       "      <td>1</td>\n",
       "      <td>551</td>\n",
       "      <td>Atlanta_Hawks@Brooklyn_Nets_2019-12-22.csv</td>\n",
       "    </tr>\n",
       "    <tr>\n",
       "      <th>2</th>\n",
       "      <td>2</td>\n",
       "      <td>449</td>\n",
       "      <td>Atlanta_Hawks@Brooklyn_Nets_2020-01-13.csv</td>\n",
       "    </tr>\n",
       "    <tr>\n",
       "      <th>3</th>\n",
       "      <td>3</td>\n",
       "      <td>469</td>\n",
       "      <td>Atlanta_Hawks@Charlotte_Hornets_2019-12-09.csv</td>\n",
       "    </tr>\n",
       "    <tr>\n",
       "      <th>4</th>\n",
       "      <td>4</td>\n",
       "      <td>490</td>\n",
       "      <td>Atlanta_Hawks@Chicago_Bulls_2019-12-12.csv</td>\n",
       "    </tr>\n",
       "  </tbody>\n",
       "</table>\n",
       "</div>"
      ],
      "text/plain": [
       "   index    0                                               1\n",
       "0      0  545     Atlanta_Hawks@Boston_Celtics_2020-01-04.csv\n",
       "1      1  551      Atlanta_Hawks@Brooklyn_Nets_2019-12-22.csv\n",
       "2      2  449      Atlanta_Hawks@Brooklyn_Nets_2020-01-13.csv\n",
       "3      3  469  Atlanta_Hawks@Charlotte_Hornets_2019-12-09.csv\n",
       "4      4  490      Atlanta_Hawks@Chicago_Bulls_2019-12-12.csv"
      ]
     },
     "execution_count": 86,
     "metadata": {},
     "output_type": "execute_result"
    }
   ],
   "source": [
    "# create a pandas dataframe containing all of the data we have so far\n",
    "path = \"games\"\n",
    "frames = []\n",
    "for file in os.listdir(path):\n",
    "    if file.endswith(\".csv\"):\n",
    "        tmp = pd.read_csv(path+'/'+file)\n",
    "        #tmp['Actual'] = tmp['Away Score'] - tmp['Home Score']\n",
    "        #tmp['Diff'] = tmp['Actual'] - tmp['Home Line Open']\n",
    "        if tmp.shape[0]>400:\n",
    "            frames.append((tmp.shape[0], file))\n",
    "        \n",
    "df2 = pd.DataFrame(frames)\n",
    "df2.reset_index(inplace=True)\n",
    "#df2.drop(columns=['Book','Away Line','Away Odds','Away Line Open'],inplace=True)\n",
    "df2.head()"
   ]
  },
  {
   "cell_type": "code",
   "execution_count": 87,
   "metadata": {},
   "outputs": [
    {
     "data": {
      "text/plain": [
       "(554, 3)"
      ]
     },
     "execution_count": 87,
     "metadata": {},
     "output_type": "execute_result"
    }
   ],
   "source": [
    "df2.shape"
   ]
  },
  {
   "cell_type": "code",
   "execution_count": 4,
   "metadata": {},
   "outputs": [],
   "source": [
    "a = os.listdir(path)"
   ]
  },
  {
   "cell_type": "code",
   "execution_count": 6,
   "metadata": {},
   "outputs": [
    {
     "data": {
      "text/plain": [
       "'Atlanta_Hawks@Boston_Celtics_2020-01-04.csv'"
      ]
     },
     "execution_count": 6,
     "metadata": {},
     "output_type": "execute_result"
    }
   ],
   "source": [
    "a[1]"
   ]
  },
  {
   "cell_type": "code",
   "execution_count": 89,
   "metadata": {},
   "outputs": [],
   "source": [
    "tmp = pd.read_csv(path+'/'+a[1])"
   ]
  },
  {
   "cell_type": "code",
   "execution_count": 90,
   "metadata": {},
   "outputs": [],
   "source": [
    "# Change american odds to decimal\n",
    "tmp.loc[tmp['Home Odds'] > 0, 'Home Odds'] = (tmp['Home Odds']/100)+1\n",
    "tmp.loc[tmp['Home Odds'] < 0, 'Home Odds'] = (100/(tmp['Home Odds']*-1))+1"
   ]
  },
  {
   "cell_type": "code",
   "execution_count": 91,
   "metadata": {},
   "outputs": [],
   "source": [
    "# Get returns if a bet was placed at this time\n",
    "tmp['Actual Spread'] =  tmp['Away Score'] - tmp['Home Score']\n",
    "tmp.loc[tmp['Home Line'] > tmp['Actual Spread'], 'Returns'] = (1*tmp['Home Odds'])-1\n",
    "tmp.loc[tmp['Home Line'] < tmp['Actual Spread'], 'Returns'] = -1\n",
    "tmp.loc[tmp['Home Line'] == tmp['Actual Spread'], 'Returns'] = 0\n",
    "tmp.drop(columns=['Book','Away Line','Away Odds','Away Line Open', 'Away Team', 'Home Team', 'Actual Spread', 'Home Score', 'Away Score', 'Time'],inplace=True)"
   ]
  },
  {
   "cell_type": "code",
   "execution_count": 92,
   "metadata": {},
   "outputs": [
    {
     "data": {
      "text/html": [
       "<div>\n",
       "<style scoped>\n",
       "    .dataframe tbody tr th:only-of-type {\n",
       "        vertical-align: middle;\n",
       "    }\n",
       "\n",
       "    .dataframe tbody tr th {\n",
       "        vertical-align: top;\n",
       "    }\n",
       "\n",
       "    .dataframe thead th {\n",
       "        text-align: right;\n",
       "    }\n",
       "</style>\n",
       "<table border=\"1\" class=\"dataframe\">\n",
       "  <thead>\n",
       "    <tr style=\"text-align: right;\">\n",
       "      <th></th>\n",
       "      <th>Home Line</th>\n",
       "      <th>Home Odds</th>\n",
       "      <th>Home Line Open</th>\n",
       "      <th>Returns</th>\n",
       "    </tr>\n",
       "  </thead>\n",
       "  <tbody>\n",
       "    <tr>\n",
       "      <th>0</th>\n",
       "      <td>0.0</td>\n",
       "      <td>1.076923</td>\n",
       "      <td>-10.5</td>\n",
       "      <td>0.076923</td>\n",
       "    </tr>\n",
       "    <tr>\n",
       "      <th>1</th>\n",
       "      <td>-5.0</td>\n",
       "      <td>1.862069</td>\n",
       "      <td>-10.5</td>\n",
       "      <td>-1.000000</td>\n",
       "    </tr>\n",
       "    <tr>\n",
       "      <th>2</th>\n",
       "      <td>-5.0</td>\n",
       "      <td>1.917431</td>\n",
       "      <td>-10.5</td>\n",
       "      <td>-1.000000</td>\n",
       "    </tr>\n",
       "    <tr>\n",
       "      <th>3</th>\n",
       "      <td>-5.0</td>\n",
       "      <td>1.934579</td>\n",
       "      <td>-10.5</td>\n",
       "      <td>-1.000000</td>\n",
       "    </tr>\n",
       "    <tr>\n",
       "      <th>4</th>\n",
       "      <td>-5.0</td>\n",
       "      <td>1.943396</td>\n",
       "      <td>-10.5</td>\n",
       "      <td>-1.000000</td>\n",
       "    </tr>\n",
       "  </tbody>\n",
       "</table>\n",
       "</div>"
      ],
      "text/plain": [
       "   Home Line  Home Odds  Home Line Open   Returns\n",
       "0        0.0   1.076923           -10.5  0.076923\n",
       "1       -5.0   1.862069           -10.5 -1.000000\n",
       "2       -5.0   1.917431           -10.5 -1.000000\n",
       "3       -5.0   1.934579           -10.5 -1.000000\n",
       "4       -5.0   1.943396           -10.5 -1.000000"
      ]
     },
     "execution_count": 92,
     "metadata": {},
     "output_type": "execute_result"
    }
   ],
   "source": [
    "tmp.head(5)"
   ]
  },
  {
   "cell_type": "code",
   "execution_count": 119,
   "metadata": {},
   "outputs": [],
   "source": [
    "# Cut up the data into frames of size 'time_steps'\n",
    "def create_frames(time_steps, df):\n",
    "    x = []\n",
    "    y = []\n",
    "    \n",
    "    for i in range(floor(df.shape[0]/time_steps)):\n",
    "        x.append(df.iloc[i:i+time_steps,:-1].values.tolist())\n",
    "        y.append(df.iloc[i:i+time_steps,-1:].values.tolist())\n",
    "    \n",
    "    return x,y"
   ]
  },
  {
   "cell_type": "code",
   "execution_count": 120,
   "metadata": {},
   "outputs": [],
   "source": [
    "a,b = create_frames(10,tmp)"
   ]
  },
  {
   "cell_type": "code",
   "execution_count": 124,
   "metadata": {},
   "outputs": [
    {
     "data": {
      "text/plain": [
       "[[[0.0, 1.0769230769230769, -10.5],\n",
       "  [-5.0, 1.8620689655172413, -10.5],\n",
       "  [-5.0, 1.9174311926605505, -10.5],\n",
       "  [-5.0, 1.9345794392523366, -10.5],\n",
       "  [-5.0, 1.9433962264150944, -10.5],\n",
       "  [-5.0, 1.9433962264150944, -10.5],\n",
       "  [-5.0, 1.9615384615384617, -10.5],\n",
       "  [-5.0, 1.9174311926605505, -10.5],\n",
       "  [-5.0, 1.8547008547008548, -10.5],\n",
       "  [-7.0, 1.8849557522123894, -10.5]],\n",
       " [[-5.0, 1.8620689655172413, -10.5],\n",
       "  [-5.0, 1.9174311926605505, -10.5],\n",
       "  [-5.0, 1.9345794392523366, -10.5],\n",
       "  [-5.0, 1.9433962264150944, -10.5],\n",
       "  [-5.0, 1.9433962264150944, -10.5],\n",
       "  [-5.0, 1.9615384615384617, -10.5],\n",
       "  [-5.0, 1.9174311926605505, -10.5],\n",
       "  [-5.0, 1.8547008547008548, -10.5],\n",
       "  [-7.0, 1.8849557522123894, -10.5],\n",
       "  [-8.0, 1.925925925925926, -10.5]]]"
      ]
     },
     "execution_count": 124,
     "metadata": {},
     "output_type": "execute_result"
    }
   ],
   "source": [
    "a[0:2]"
   ]
  },
  {
   "cell_type": "code",
   "execution_count": 122,
   "metadata": {},
   "outputs": [
    {
     "data": {
      "text/plain": [
       "[[0.07692307692307687],\n",
       " [-1.0],\n",
       " [-1.0],\n",
       " [-1.0],\n",
       " [-1.0],\n",
       " [-1.0],\n",
       " [-1.0],\n",
       " [-1.0],\n",
       " [-1.0],\n",
       " [-1.0]]"
      ]
     },
     "execution_count": 122,
     "metadata": {},
     "output_type": "execute_result"
    }
   ],
   "source": [
    "b[0]"
   ]
  },
  {
   "cell_type": "code",
   "execution_count": null,
   "metadata": {},
   "outputs": [],
   "source": []
  }
 ],
 "metadata": {
  "kernelspec": {
   "display_name": "Python 3",
   "language": "python",
   "name": "python3"
  },
  "language_info": {
   "codemirror_mode": {
    "name": "ipython",
    "version": 3
   },
   "file_extension": ".py",
   "mimetype": "text/x-python",
   "name": "python",
   "nbconvert_exporter": "python",
   "pygments_lexer": "ipython3",
   "version": "3.7.3"
  }
 },
 "nbformat": 4,
 "nbformat_minor": 2
}
