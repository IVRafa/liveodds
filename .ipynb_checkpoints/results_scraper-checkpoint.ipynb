{
 "cells": [
  {
   "cell_type": "code",
   "execution_count": 221,
   "metadata": {},
   "outputs": [],
   "source": [
    "from selenium.webdriver import Chrome\n",
    "import pandas as pd\n",
    "import html5lib\n",
    "import time\n",
    "import numpy as np\n",
    "from math import ceil"
   ]
  },
  {
   "cell_type": "code",
   "execution_count": 314,
   "metadata": {},
   "outputs": [],
   "source": [
    "webdriver = \"chromedriver_win32/chromedriver.exe\"\n",
    "driver = Chrome(webdriver)\n",
    "\n",
    "my_url = \"https://engine.mybookie.ag\"\n",
    "my_url = \"https://rbws.mybookie.ag/PlayerInteraction/AccountManagement2016-07/Account.aspx?SSC=8001&stoken=59ac0f0ab264fdfa&lng=en-US&go=1%2c1%2c1\"\n",
    "driver.get(my_url)"
   ]
  },
  {
   "cell_type": "code",
   "execution_count": 265,
   "metadata": {},
   "outputs": [],
   "source": [
    "# To avoid having to redo days, make sure you check if there's still any open bets for those days\n",
    "\n",
    "# Log in and then go to account history after this\n",
    "# Select the correct week\n",
    "# Make sure the page is on full screen\n",
    "# Will not work if the window is small enough to use the \"mobile\" version\n",
    "\n",
    "# create the list that stores the bets\n",
    "bets = [[] for i in range(7)]\n",
    "\n",
    "days = ['Monday', 'Tuesday', 'Wednesday', 'Thursday', 'Friday', 'Saturday', 'Sunday']\n",
    "for x in range(7):\n",
    "    # select the correct day\n",
    "    driver.find_element_by_link_text(days[x]).click()\n",
    "    time.sleep(1)\n",
    "    # get the total number of bets\n",
    "    num_bets = driver.find_elements_by_xpath(\n",
    "        \"//div[contains(@id,'total-win-loss-{}-day')]//span[contains(@class,'pagination-info')]\".format(x))[0].text\n",
    "    # divide the total by 10 then round up to get the number of pages we need to read (10 bets per page)\n",
    "    num_pages = ceil(int(num_bets.split(\"of \")[-1])/10)\n",
    "    \n",
    "    for y in range(num_pages):\n",
    "        # read the page html\n",
    "        df = pd.read_html(driver.page_source)\n",
    "        # add all the sportsbook bets on the page into the bet array\n",
    "        # bets from horse races will be handled separately using the racing final bets page\n",
    "        for bet in df[x][0]:\n",
    "            if '«' not in bet and bet.startswith(\"Bet Ticket\"):\n",
    "                bets[x].append(bet)\n",
    "        driver.find_elements_by_xpath(\n",
    "        \"//div[@id='total-win-loss-{}-day']//div[@class='arrows']//a[contains(@class, 'next-pag')]\".format(x))[0].click()\n",
    "        time.sleep(1)"
   ]
  },
  {
   "cell_type": "code",
   "execution_count": 305,
   "metadata": {},
   "outputs": [],
   "source": [
    "bets_flat = np.array(bets)\n",
    "bets_flat = np.hstack(bets_flat).tolist()\n",
    "\n",
    "#bets_flat = bets[3]"
   ]
  },
  {
   "cell_type": "code",
   "execution_count": 306,
   "metadata": {},
   "outputs": [],
   "source": [
    "# Handle the formatting of the sportbook bets only\n",
    "# For the racing bets go to racing > final results\n",
    "df = pd.DataFrame(bets_flat)\n",
    "df.columns=[\"raw\"]"
   ]
  },
  {
   "cell_type": "code",
   "execution_count": 307,
   "metadata": {},
   "outputs": [],
   "source": [
    "df['Bet Ticket'] = df['raw'].str.extract(r\"(?<=Bet Ticket: #)(\\d*)\")\n",
    "\n",
    "df['Date'] = df['raw'].str.extract(r\"(?<=Placed: )(\\S*)\")\n",
    "\n",
    "df[\"betandodds\"] = df[\"raw\"].str.extract(r\"(?<=\\] )(.*)(?=  Risk)\")\n",
    "df[\"Selection\"] = df[\"betandodds\"].str.extract(r\"^(.*)(?= \\d*\\.\\d{2})\")\n",
    "df[\"Odds\"] = df[\"betandodds\"].str.extract(r\"(\\d*\\.\\d{2})\")\n",
    "df[\"Event\"] = df[\"betandodds\"].str.extract(r\"(\\(.*\\))\")\n",
    "\n",
    "allowed_vals = ['WIN', 'LOSE', 'PUSH', 'CANCEL']\n",
    "df[\"Win\"] = df[\"betandodds\"].str.extract(r\"([\\w-]+)$\")\n",
    "df.loc[~df[\"Win\"].isin(allowed_vals), \"Win\"] = \"LOSE\"\n",
    "df[\"Win\"] = df[\"Win\"].replace({'LOSE':'N','WIN':'Y','PUSH':'PU','CANCEL':'R'})\n",
    "\n",
    "del df[\"betandodds\"]\n",
    "\n",
    "df['Stake'] = df['raw'].str.extract(r\"(?<=Risk: \\$)(\\d*.\\d{2})\")\n",
    "df['Stake'] = df['Stake'].replace({'0.00':'5.00'})\n",
    "df['Bonus Bet'] = df['raw'].str.contains(\"\\(FP\\)\")\n",
    "df['Bonus Bet'] = df['Bonus Bet'].replace({True:'Y',False:'N'})\n",
    "\n",
    "\n",
    "df['Bookmaker'] = 'MyBookie'\n",
    "df['Bet Type'] = ''\n",
    "df['Tipper'] = ''\n",
    "df['Live Bet'] = ''\n",
    "df['Score'] = ''\n",
    "df['Sport'] = ''\n",
    "df['My Var'] = ''\n",
    "cols = df.columns.tolist()\n",
    "\n",
    "cols = ['Date', 'Bookmaker', 'Sport', 'Selection', 'Bet Type', 'Tipper', 'My Var','Event', 'Live Bet',\n",
    "       'Score', 'Stake', 'Odds', 'Bonus Bet', 'Win', 'raw']\n",
    "df = df[cols]"
   ]
  },
  {
   "cell_type": "code",
   "execution_count": 311,
   "metadata": {},
   "outputs": [],
   "source": [
    "df.to_csv('odds.csv', index=False,header=False)"
   ]
  }
 ],
 "metadata": {
  "kernelspec": {
   "display_name": "Python 3",
   "language": "python",
   "name": "python3"
  },
  "language_info": {
   "codemirror_mode": {
    "name": "ipython",
    "version": 3
   },
   "file_extension": ".py",
   "mimetype": "text/x-python",
   "name": "python",
   "nbconvert_exporter": "python",
   "pygments_lexer": "ipython3",
   "version": "3.6.10"
  }
 },
 "nbformat": 4,
 "nbformat_minor": 2
}
